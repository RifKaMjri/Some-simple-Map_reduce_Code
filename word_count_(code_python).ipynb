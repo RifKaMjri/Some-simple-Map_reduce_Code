{
  "cells": [
    {
      "cell_type": "code",
      "execution_count": null,
      "metadata": {
        "id": "gIICuVF8G1rP"
      },
      "outputs": [],
      "source": [
        "import pandas as pd\n",
        "import findspark\n",
        "findspark.init()\n",
        "import pyspark\n",
        "import os\n",
        "from pyspark import SparkContext\n",
        "#from pyspark import SparkContext, SparkConf"
      ]
    },
    {
      "cell_type": "code",
      "execution_count": null,
      "metadata": {
        "id": "gmb5TrJwG1rV",
        "outputId": "fd8a74c3-5f92-46bf-99bb-21394f711cf4"
      },
      "outputs": [
        {
          "name": "stdout",
          "output_type": "stream",
          "text": [
            "refka: 5\n",
            "mejri: 4\n",
            "yobitrust: 1\n",
            "je: 3\n",
            "moi: 3\n",
            "allo: 2\n",
            ": 2\n",
            "hadoop: 1\n",
            "fs: 1\n",
            "-mkdir: 1\n",
            "-p: 1\n",
            "'/home/myuser/data1': 1\n",
            "toi: 3\n",
            "calme: 1\n"
          ]
        }
      ],
      "source": [
        "from pyspark import SparkContext\n",
        "sc = SparkContext(\"local\", \"text\")\n",
        "# Calculating words count\n",
        "text_file = sc.textFile(\"hdfs:/refka11/texte\")\n",
        "counts = text_file.flatMap(lambda line: line.split(\" \")) \\\n",
        "             .map(lambda word: (word, 1)) \\\n",
        "             .reduceByKey(lambda a, b: a + b)\n",
        "# Printing each word with its respective count\n",
        "output = counts.collect()\n",
        "for (word, count) in output:\n",
        "    print(\"%s: %i\" % (word, count))\n",
        "# Stopping Spark Context\n",
        "sc.stop()\n",
        "                        "
      ]
    },
    {
      "cell_type": "code",
      "execution_count": null,
      "metadata": {
        "id": "sIQmTi4bG1rY"
      },
      "outputs": [],
      "source": [
        ""
      ]
    }
  ],
  "metadata": {
    "kernelspec": {
      "display_name": "Python 3",
      "language": "python",
      "name": "python3"
    },
    "language_info": {
      "codemirror_mode": {
        "name": "ipython",
        "version": 3
      },
      "file_extension": ".py",
      "mimetype": "text/x-python",
      "name": "python",
      "nbconvert_exporter": "python",
      "pygments_lexer": "ipython3",
      "version": "3.7.3"
    },
    "colab": {
      "name": "word count (code python).ipynb",
      "provenance": []
    }
  },
  "nbformat": 4,
  "nbformat_minor": 0
}